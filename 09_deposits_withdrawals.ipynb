{
 "cells": [
  {
   "cell_type": "code",
   "execution_count": 1,
   "id": "175c7d78-fccd-4e7f-9b4d-ffac4a4f8590",
   "metadata": {},
   "outputs": [],
   "source": [
    "import ccxt\n",
    "import pandas as pd\n",
    "from dotenv import load_dotenv\n",
    "import os\n",
    "from crypto_pandas import CCXTPandasExchange\n",
    "from crypto_pandas.utils.pandas_utils import timestamp_to_int\n",
    "\n",
    "\n",
    "load_dotenv()\n",
    "exchange = ccxt.bybit({\n",
    "    \"apiKey\": os.getenv(\"BYBIT_SANDBOX_API_KEY\"),\n",
    "    \"secret\": os.getenv(\"BYBIT_SANDBOX_API_SECRET\"),\n",
    "})\n",
    "exchange.set_sandbox_mode(True)\n",
    "pandas_exchange = CCXTPandasExchange(exchange=exchange)\n"
   ]
  },
  {
   "cell_type": "code",
   "execution_count": 2,
   "id": "b41d256d-7b59-41e8-bd16-ae9ded8bd780",
   "metadata": {},
   "outputs": [],
   "source": [
    "start_time = pd.Timestamp(\"2025-06-21T00:00:00\", tz=\"UTC\")\n",
    "end_time = start_time + pd.Timedelta(days=7)\n",
    "\n",
    "params = {\n",
    "    \"startTime\": timestamp_to_int(start_time),\n",
    "    \"endTime\": timestamp_to_int(end_time),\n",
    "}\n",
    "\n",
    "deposits = pandas_exchange.fetch_deposits(params=params)\n",
    "withdrawals = pandas_exchange.fetch_withdrawals(params=params)\n",
    "data = pd.concat([deposits, withdrawals], ignore_index=True)"
   ]
  },
  {
   "cell_type": "code",
   "execution_count": 3,
   "id": "b9e5505b-40df-4648-91e4-7b989a1dec65",
   "metadata": {},
   "outputs": [
    {
     "data": {
      "text/html": [
       "<div>\n",
       "<style scoped>\n",
       "    .dataframe tbody tr th:only-of-type {\n",
       "        vertical-align: middle;\n",
       "    }\n",
       "\n",
       "    .dataframe tbody tr th {\n",
       "        vertical-align: top;\n",
       "    }\n",
       "\n",
       "    .dataframe thead th {\n",
       "        text-align: right;\n",
       "    }\n",
       "</style>\n",
       "<table border=\"1\" class=\"dataframe\">\n",
       "  <thead>\n",
       "    <tr style=\"text-align: right;\">\n",
       "      <th></th>\n",
       "      <th>id</th>\n",
       "      <th>txid</th>\n",
       "      <th>timestamp</th>\n",
       "      <th>datetime</th>\n",
       "      <th>network</th>\n",
       "      <th>type</th>\n",
       "      <th>amount</th>\n",
       "      <th>currency</th>\n",
       "      <th>status</th>\n",
       "      <th>exchange</th>\n",
       "    </tr>\n",
       "  </thead>\n",
       "  <tbody>\n",
       "    <tr>\n",
       "      <th>0</th>\n",
       "      <td>1321837</td>\n",
       "      <td>7c7f650f-a9c5-44dd-971e-22a0455d1927</td>\n",
       "      <td>2025-06-21 10:21:16+00:00</td>\n",
       "      <td>2025-06-21 10:21:16+00:00</td>\n",
       "      <td>ERC20</td>\n",
       "      <td>deposit</td>\n",
       "      <td>10000.0</td>\n",
       "      <td>USDT</td>\n",
       "      <td>ok</td>\n",
       "      <td>bybit</td>\n",
       "    </tr>\n",
       "    <tr>\n",
       "      <th>1</th>\n",
       "      <td>1321836</td>\n",
       "      <td>4b9aa029-dbe0-4bfd-903b-9086fba93dc7</td>\n",
       "      <td>2025-06-21 10:21:16+00:00</td>\n",
       "      <td>2025-06-21 10:21:16+00:00</td>\n",
       "      <td>BTC</td>\n",
       "      <td>deposit</td>\n",
       "      <td>1.0</td>\n",
       "      <td>BTC</td>\n",
       "      <td>ok</td>\n",
       "      <td>bybit</td>\n",
       "    </tr>\n",
       "  </tbody>\n",
       "</table>\n",
       "</div>"
      ],
      "text/plain": [
       "        id                                  txid                 timestamp  \\\n",
       "0  1321837  7c7f650f-a9c5-44dd-971e-22a0455d1927 2025-06-21 10:21:16+00:00   \n",
       "1  1321836  4b9aa029-dbe0-4bfd-903b-9086fba93dc7 2025-06-21 10:21:16+00:00   \n",
       "\n",
       "                   datetime network     type   amount currency status exchange  \n",
       "0 2025-06-21 10:21:16+00:00   ERC20  deposit  10000.0     USDT     ok    bybit  \n",
       "1 2025-06-21 10:21:16+00:00     BTC  deposit      1.0      BTC     ok    bybit  "
      ]
     },
     "execution_count": 3,
     "metadata": {},
     "output_type": "execute_result"
    }
   ],
   "source": [
    "data"
   ]
  },
  {
   "cell_type": "code",
   "execution_count": null,
   "id": "8002b4c2-6f2c-42f7-a7da-5081f73d02e8",
   "metadata": {},
   "outputs": [],
   "source": []
  }
 ],
 "metadata": {
  "kernelspec": {
   "display_name": "Python 3 (ipykernel)",
   "language": "python",
   "name": "python3"
  },
  "language_info": {
   "codemirror_mode": {
    "name": "ipython",
    "version": 3
   },
   "file_extension": ".py",
   "mimetype": "text/x-python",
   "name": "python",
   "nbconvert_exporter": "python",
   "pygments_lexer": "ipython3",
   "version": "3.12.9"
  }
 },
 "nbformat": 4,
 "nbformat_minor": 5
}
