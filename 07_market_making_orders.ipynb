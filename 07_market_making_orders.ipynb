{
 "cells": [
  {
   "cell_type": "code",
   "execution_count": 2,
   "id": "f33791ae-af82-45ef-88f5-d8bfb5ca2581",
   "metadata": {},
   "outputs": [],
   "source": [
    "from dotenv import load_dotenv\n",
    "import os\n",
    "import ccxt\n",
    "from crypto_pandas import CCXTPandasExchange\n",
    "\n",
    "# Load .env file\n",
    "load_dotenv()\n",
    "api_key = os.getenv(\"BINANCE_SANDBOX_API_KEY\")\n",
    "api_secret = os.getenv(\"BINANCE_SANDBOX_API_SECRET\")\n",
    "\n",
    "# Initialize exchange (e.g., for sandbox)\n",
    "binance = ccxt.binance({\n",
    "    'apiKey': api_key,\n",
    "    'secret': api_secret,\n",
    "    'enableRateLimit': True,\n",
    "})\n",
    "binance.set_sandbox_mode(True)"
   ]
  },
  {
   "cell_type": "code",
   "execution_count": 4,
   "id": "63db52cb-97be-493c-af59-4278dcfb63d7",
   "metadata": {},
   "outputs": [
    {
     "name": "stdout",
     "output_type": "stream",
     "text": [
      "Placing LIMIT_MAKER Spot Order...\n"
     ]
    },
    {
     "ename": "AuthenticationError",
     "evalue": "binance {\"code\":-2015,\"msg\":\"Invalid API-key, IP, or permissions for action.\"}",
     "output_type": "error",
     "traceback": [
      "\u001b[31m---------------------------------------------------------------------------\u001b[39m",
      "\u001b[31mHTTPError\u001b[39m                                 Traceback (most recent call last)",
      "\u001b[36mFile \u001b[39m\u001b[32m~\\anaconda3\\envs\\algos\\Lib\\site-packages\\ccxt\\base\\exchange.py:582\u001b[39m, in \u001b[36mExchange.fetch\u001b[39m\u001b[34m(self, url, method, headers, body)\u001b[39m\n\u001b[32m    581\u001b[39m     \u001b[38;5;28mself\u001b[39m.logger.debug(\u001b[33m\"\u001b[39m\u001b[38;5;132;01m%s\u001b[39;00m\u001b[33m \u001b[39m\u001b[38;5;132;01m%s\u001b[39;00m\u001b[33m, Response: \u001b[39m\u001b[38;5;132;01m%s\u001b[39;00m\u001b[33m \u001b[39m\u001b[38;5;132;01m%s\u001b[39;00m\u001b[33m \u001b[39m\u001b[38;5;132;01m%s\u001b[39;00m\u001b[33m\"\u001b[39m, method, url, http_status_code, headers, http_response)\n\u001b[32m--> \u001b[39m\u001b[32m582\u001b[39m     \u001b[43mresponse\u001b[49m\u001b[43m.\u001b[49m\u001b[43mraise_for_status\u001b[49m\u001b[43m(\u001b[49m\u001b[43m)\u001b[49m\n\u001b[32m    584\u001b[39m \u001b[38;5;28;01mexcept\u001b[39;00m Timeout \u001b[38;5;28;01mas\u001b[39;00m e:\n",
      "\u001b[36mFile \u001b[39m\u001b[32m~\\anaconda3\\envs\\algos\\Lib\\site-packages\\requests\\models.py:1026\u001b[39m, in \u001b[36mResponse.raise_for_status\u001b[39m\u001b[34m(self)\u001b[39m\n\u001b[32m   1025\u001b[39m \u001b[38;5;28;01mif\u001b[39;00m http_error_msg:\n\u001b[32m-> \u001b[39m\u001b[32m1026\u001b[39m     \u001b[38;5;28;01mraise\u001b[39;00m HTTPError(http_error_msg, response=\u001b[38;5;28mself\u001b[39m)\n",
      "\u001b[31mHTTPError\u001b[39m: 401 Client Error: Unauthorized for url: https://testnet.binance.vision/api/v3/order",
      "\nDuring handling of the above exception, another exception occurred:\n",
      "\u001b[31mAuthenticationError\u001b[39m                       Traceback (most recent call last)",
      "\u001b[36mCell\u001b[39m\u001b[36m \u001b[39m\u001b[32mIn[4]\u001b[39m\u001b[32m, line 2\u001b[39m\n\u001b[32m      1\u001b[39m \u001b[38;5;28mprint\u001b[39m(\u001b[33m\"\u001b[39m\u001b[33mPlacing LIMIT_MAKER Spot Order...\u001b[39m\u001b[33m\"\u001b[39m)\n\u001b[32m----> \u001b[39m\u001b[32m2\u001b[39m spot_order = \u001b[43mbinance\u001b[49m\u001b[43m.\u001b[49m\u001b[43mcreate_order\u001b[49m\u001b[43m(\u001b[49m\n\u001b[32m      3\u001b[39m \u001b[43m    \u001b[49m\u001b[43msymbol\u001b[49m\u001b[43m=\u001b[49m\u001b[33;43m'\u001b[39;49m\u001b[33;43mBTC/USDT\u001b[39;49m\u001b[33;43m'\u001b[39;49m\u001b[43m,\u001b[49m\n\u001b[32m      4\u001b[39m \u001b[43m    \u001b[49m\u001b[38;5;28;43mtype\u001b[39;49m\u001b[43m=\u001b[49m\u001b[33;43m\"\u001b[39;49m\u001b[33;43mLIMIT_MAKER\u001b[39;49m\u001b[33;43m\"\u001b[39;49m\u001b[43m,\u001b[49m\n\u001b[32m      5\u001b[39m \u001b[43m    \u001b[49m\u001b[43mside\u001b[49m\u001b[43m=\u001b[49m\u001b[33;43m'\u001b[39;49m\u001b[33;43msell\u001b[39;49m\u001b[33;43m'\u001b[39;49m\u001b[43m,\u001b[49m\n\u001b[32m      6\u001b[39m \u001b[43m    \u001b[49m\u001b[43mamount\u001b[49m\u001b[43m=\u001b[49m\u001b[32;43m0.001\u001b[39;49m\u001b[43m,\u001b[49m\n\u001b[32m      7\u001b[39m \u001b[43m    \u001b[49m\u001b[43mprice\u001b[49m\u001b[43m=\u001b[49m\u001b[32;43m100_000\u001b[39;49m\u001b[43m,\u001b[49m\n\u001b[32m      8\u001b[39m \u001b[43m)\u001b[49m\n\u001b[32m      9\u001b[39m spot_order\n\u001b[32m     10\u001b[39m cancel = binance.cancel_order(symbol=spot_order[\u001b[33m\"\u001b[39m\u001b[33msymbol\u001b[39m\u001b[33m\"\u001b[39m], \u001b[38;5;28mid\u001b[39m=spot_order[\u001b[33m\"\u001b[39m\u001b[33mid\u001b[39m\u001b[33m\"\u001b[39m])\n",
      "\u001b[36mFile \u001b[39m\u001b[32m~\\anaconda3\\envs\\algos\\Lib\\site-packages\\ccxt\\binance.py:6041\u001b[39m, in \u001b[36mbinance.create_order\u001b[39m\u001b[34m(self, symbol, type, side, amount, price, params)\u001b[39m\n\u001b[32m   6039\u001b[39m         response = \u001b[38;5;28mself\u001b[39m.privatePostOrderTest(request)\n\u001b[32m   6040\u001b[39m     \u001b[38;5;28;01melse\u001b[39;00m:\n\u001b[32m-> \u001b[39m\u001b[32m6041\u001b[39m         response = \u001b[38;5;28;43mself\u001b[39;49m\u001b[43m.\u001b[49m\u001b[43mprivatePostOrder\u001b[49m\u001b[43m(\u001b[49m\u001b[43mrequest\u001b[49m\u001b[43m)\u001b[49m\n\u001b[32m   6042\u001b[39m \u001b[38;5;28;01mreturn\u001b[39;00m \u001b[38;5;28mself\u001b[39m.parse_order(response, market)\n",
      "\u001b[36mFile \u001b[39m\u001b[32m~\\anaconda3\\envs\\algos\\Lib\\site-packages\\ccxt\\base\\types.py:35\u001b[39m, in \u001b[36mEntry.__init__.<locals>.unbound_method\u001b[39m\u001b[34m(_self, params)\u001b[39m\n\u001b[32m     34\u001b[39m \u001b[38;5;28;01mdef\u001b[39;00m\u001b[38;5;250m \u001b[39m\u001b[34munbound_method\u001b[39m(_self, params={}):\n\u001b[32m---> \u001b[39m\u001b[32m35\u001b[39m     \u001b[38;5;28;01mreturn\u001b[39;00m \u001b[43m_self\u001b[49m\u001b[43m.\u001b[49m\u001b[43mrequest\u001b[49m\u001b[43m(\u001b[49m\u001b[38;5;28;43mself\u001b[39;49m\u001b[43m.\u001b[49m\u001b[43mpath\u001b[49m\u001b[43m,\u001b[49m\u001b[43m \u001b[49m\u001b[38;5;28;43mself\u001b[39;49m\u001b[43m.\u001b[49m\u001b[43mapi\u001b[49m\u001b[43m,\u001b[49m\u001b[43m \u001b[49m\u001b[38;5;28;43mself\u001b[39;49m\u001b[43m.\u001b[49m\u001b[43mmethod\u001b[49m\u001b[43m,\u001b[49m\u001b[43m \u001b[49m\u001b[43mparams\u001b[49m\u001b[43m,\u001b[49m\u001b[43m \u001b[49m\u001b[43mconfig\u001b[49m\u001b[43m=\u001b[49m\u001b[38;5;28;43mself\u001b[39;49m\u001b[43m.\u001b[49m\u001b[43mconfig\u001b[49m\u001b[43m)\u001b[49m\n",
      "\u001b[36mFile \u001b[39m\u001b[32m~\\anaconda3\\envs\\algos\\Lib\\site-packages\\ccxt\\binance.py:11338\u001b[39m, in \u001b[36mbinance.request\u001b[39m\u001b[34m(self, path, api, method, params, headers, body, config)\u001b[39m\n\u001b[32m  11337\u001b[39m \u001b[38;5;28;01mdef\u001b[39;00m\u001b[38;5;250m \u001b[39m\u001b[34mrequest\u001b[39m(\u001b[38;5;28mself\u001b[39m, path, api=\u001b[33m'\u001b[39m\u001b[33mpublic\u001b[39m\u001b[33m'\u001b[39m, method=\u001b[33m'\u001b[39m\u001b[33mGET\u001b[39m\u001b[33m'\u001b[39m, params={}, headers=\u001b[38;5;28;01mNone\u001b[39;00m, body=\u001b[38;5;28;01mNone\u001b[39;00m, config={}):\n\u001b[32m> \u001b[39m\u001b[32m11338\u001b[39m     response = \u001b[38;5;28;43mself\u001b[39;49m\u001b[43m.\u001b[49m\u001b[43mfetch2\u001b[49m\u001b[43m(\u001b[49m\u001b[43mpath\u001b[49m\u001b[43m,\u001b[49m\u001b[43m \u001b[49m\u001b[43mapi\u001b[49m\u001b[43m,\u001b[49m\u001b[43m \u001b[49m\u001b[43mmethod\u001b[49m\u001b[43m,\u001b[49m\u001b[43m \u001b[49m\u001b[43mparams\u001b[49m\u001b[43m,\u001b[49m\u001b[43m \u001b[49m\u001b[43mheaders\u001b[49m\u001b[43m,\u001b[49m\u001b[43m \u001b[49m\u001b[43mbody\u001b[49m\u001b[43m,\u001b[49m\u001b[43m \u001b[49m\u001b[43mconfig\u001b[49m\u001b[43m)\u001b[49m\n\u001b[32m  11339\u001b[39m     \u001b[38;5;66;03m# a workaround for {\"code\":-2015,\"msg\":\"Invalid API-key, IP, or permissions for action.\"}\u001b[39;00m\n\u001b[32m  11340\u001b[39m     \u001b[38;5;28;01mif\u001b[39;00m api == \u001b[33m'\u001b[39m\u001b[33mprivate\u001b[39m\u001b[33m'\u001b[39m:\n",
      "\u001b[36mFile \u001b[39m\u001b[32m~\\anaconda3\\envs\\algos\\Lib\\site-packages\\ccxt\\base\\exchange.py:4527\u001b[39m, in \u001b[36mExchange.fetch2\u001b[39m\u001b[34m(self, path, api, method, params, headers, body, config)\u001b[39m\n\u001b[32m   4525\u001b[39m                 \u001b[38;5;28;01mraise\u001b[39;00m e\n\u001b[32m   4526\u001b[39m         \u001b[38;5;28;01melse\u001b[39;00m:\n\u001b[32m-> \u001b[39m\u001b[32m4527\u001b[39m             \u001b[38;5;28;01mraise\u001b[39;00m e\n\u001b[32m   4528\u001b[39m \u001b[38;5;28;01mreturn\u001b[39;00m \u001b[38;5;28;01mNone\u001b[39;00m\n",
      "\u001b[36mFile \u001b[39m\u001b[32m~\\anaconda3\\envs\\algos\\Lib\\site-packages\\ccxt\\base\\exchange.py:4516\u001b[39m, in \u001b[36mExchange.fetch2\u001b[39m\u001b[34m(self, path, api, method, params, headers, body, config)\u001b[39m\n\u001b[32m   4514\u001b[39m \u001b[38;5;28;01mfor\u001b[39;00m i \u001b[38;5;129;01min\u001b[39;00m \u001b[38;5;28mrange\u001b[39m(\u001b[32m0\u001b[39m, retries + \u001b[32m1\u001b[39m):\n\u001b[32m   4515\u001b[39m     \u001b[38;5;28;01mtry\u001b[39;00m:\n\u001b[32m-> \u001b[39m\u001b[32m4516\u001b[39m         \u001b[38;5;28;01mreturn\u001b[39;00m \u001b[38;5;28;43mself\u001b[39;49m\u001b[43m.\u001b[49m\u001b[43mfetch\u001b[49m\u001b[43m(\u001b[49m\u001b[43mrequest\u001b[49m\u001b[43m[\u001b[49m\u001b[33;43m'\u001b[39;49m\u001b[33;43murl\u001b[39;49m\u001b[33;43m'\u001b[39;49m\u001b[43m]\u001b[49m\u001b[43m,\u001b[49m\u001b[43m \u001b[49m\u001b[43mrequest\u001b[49m\u001b[43m[\u001b[49m\u001b[33;43m'\u001b[39;49m\u001b[33;43mmethod\u001b[39;49m\u001b[33;43m'\u001b[39;49m\u001b[43m]\u001b[49m\u001b[43m,\u001b[49m\u001b[43m \u001b[49m\u001b[43mrequest\u001b[49m\u001b[43m[\u001b[49m\u001b[33;43m'\u001b[39;49m\u001b[33;43mheaders\u001b[39;49m\u001b[33;43m'\u001b[39;49m\u001b[43m]\u001b[49m\u001b[43m,\u001b[49m\u001b[43m \u001b[49m\u001b[43mrequest\u001b[49m\u001b[43m[\u001b[49m\u001b[33;43m'\u001b[39;49m\u001b[33;43mbody\u001b[39;49m\u001b[33;43m'\u001b[39;49m\u001b[43m]\u001b[49m\u001b[43m)\u001b[49m\n\u001b[32m   4517\u001b[39m     \u001b[38;5;28;01mexcept\u001b[39;00m \u001b[38;5;167;01mException\u001b[39;00m \u001b[38;5;28;01mas\u001b[39;00m e:\n\u001b[32m   4518\u001b[39m         \u001b[38;5;28;01mif\u001b[39;00m \u001b[38;5;28misinstance\u001b[39m(e, OperationFailed):\n",
      "\u001b[36mFile \u001b[39m\u001b[32m~\\anaconda3\\envs\\algos\\Lib\\site-packages\\ccxt\\base\\exchange.py:598\u001b[39m, in \u001b[36mExchange.fetch\u001b[39m\u001b[34m(self, url, method, headers, body)\u001b[39m\n\u001b[32m    596\u001b[39m \u001b[38;5;28;01mexcept\u001b[39;00m HTTPError \u001b[38;5;28;01mas\u001b[39;00m e:\n\u001b[32m    597\u001b[39m     details = \u001b[33m'\u001b[39m\u001b[33m \u001b[39m\u001b[33m'\u001b[39m.join([\u001b[38;5;28mself\u001b[39m.id, method, url])\n\u001b[32m--> \u001b[39m\u001b[32m598\u001b[39m     skip_further_error_handling = \u001b[38;5;28;43mself\u001b[39;49m\u001b[43m.\u001b[49m\u001b[43mhandle_errors\u001b[49m\u001b[43m(\u001b[49m\u001b[43mhttp_status_code\u001b[49m\u001b[43m,\u001b[49m\u001b[43m \u001b[49m\u001b[43mhttp_status_text\u001b[49m\u001b[43m,\u001b[49m\u001b[43m \u001b[49m\u001b[43murl\u001b[49m\u001b[43m,\u001b[49m\u001b[43m \u001b[49m\u001b[43mmethod\u001b[49m\u001b[43m,\u001b[49m\u001b[43m \u001b[49m\u001b[43mheaders\u001b[49m\u001b[43m,\u001b[49m\u001b[43m \u001b[49m\u001b[43mhttp_response\u001b[49m\u001b[43m,\u001b[49m\u001b[43m \u001b[49m\u001b[43mjson_response\u001b[49m\u001b[43m,\u001b[49m\u001b[43m \u001b[49m\u001b[43mrequest_headers\u001b[49m\u001b[43m,\u001b[49m\u001b[43m \u001b[49m\u001b[43mrequest_body\u001b[49m\u001b[43m)\u001b[49m\n\u001b[32m    599\u001b[39m     \u001b[38;5;28;01mif\u001b[39;00m \u001b[38;5;129;01mnot\u001b[39;00m skip_further_error_handling:\n\u001b[32m    600\u001b[39m         \u001b[38;5;28mself\u001b[39m.handle_http_status_code(http_status_code, http_status_text, url, method, http_response)\n",
      "\u001b[36mFile \u001b[39m\u001b[32m~\\anaconda3\\envs\\algos\\Lib\\site-packages\\ccxt\\binance.py:11306\u001b[39m, in \u001b[36mbinance.handle_errors\u001b[39m\u001b[34m(self, code, reason, url, method, headers, body, response, requestHeaders, requestBody)\u001b[39m\n\u001b[32m  11304\u001b[39m         \u001b[38;5;28;01mraise\u001b[39;00m MarginModeAlreadySet(feedback)\n\u001b[32m  11305\u001b[39m     \u001b[38;5;28mself\u001b[39m.throw_exactly_matched_exception(\u001b[38;5;28mself\u001b[39m.get_exceptions_by_url(url, \u001b[33m'\u001b[39m\u001b[33mexact\u001b[39m\u001b[33m'\u001b[39m), error, feedback)\n\u001b[32m> \u001b[39m\u001b[32m11306\u001b[39m     \u001b[38;5;28;43mself\u001b[39;49m\u001b[43m.\u001b[49m\u001b[43mthrow_exactly_matched_exception\u001b[49m\u001b[43m(\u001b[49m\u001b[38;5;28;43mself\u001b[39;49m\u001b[43m.\u001b[49m\u001b[43mexceptions\u001b[49m\u001b[43m[\u001b[49m\u001b[33;43m'\u001b[39;49m\u001b[33;43mexact\u001b[39;49m\u001b[33;43m'\u001b[39;49m\u001b[43m]\u001b[49m\u001b[43m,\u001b[49m\u001b[43m \u001b[49m\u001b[43merror\u001b[49m\u001b[43m,\u001b[49m\u001b[43m \u001b[49m\u001b[43mfeedback\u001b[49m\u001b[43m)\u001b[49m\n\u001b[32m  11307\u001b[39m     \u001b[38;5;28;01mraise\u001b[39;00m ExchangeError(feedback)\n\u001b[32m  11308\u001b[39m \u001b[38;5;28;01mif\u001b[39;00m \u001b[38;5;129;01mnot\u001b[39;00m success:\n",
      "\u001b[36mFile \u001b[39m\u001b[32m~\\anaconda3\\envs\\algos\\Lib\\site-packages\\ccxt\\base\\exchange.py:4920\u001b[39m, in \u001b[36mExchange.throw_exactly_matched_exception\u001b[39m\u001b[34m(self, exact, string, message)\u001b[39m\n\u001b[32m   4918\u001b[39m     \u001b[38;5;28;01mreturn\u001b[39;00m\n\u001b[32m   4919\u001b[39m \u001b[38;5;28;01mif\u001b[39;00m string \u001b[38;5;129;01min\u001b[39;00m exact:\n\u001b[32m-> \u001b[39m\u001b[32m4920\u001b[39m     \u001b[38;5;28;01mraise\u001b[39;00m exact[string](message)\n",
      "\u001b[31mAuthenticationError\u001b[39m: binance {\"code\":-2015,\"msg\":\"Invalid API-key, IP, or permissions for action.\"}"
     ]
    }
   ],
   "source": [
    "print(\"Placing LIMIT_MAKER Spot Order...\")\n",
    "spot_order = binance.create_order(\n",
    "    symbol='BTC/USDT',\n",
    "    type=\"LIMIT_MAKER\",\n",
    "    side='sell',\n",
    "    amount=0.001,\n",
    "    price=100_000,\n",
    ")\n",
    "spot_order\n",
    "cancel = binance.cancel_order(symbol=spot_order[\"symbol\"], id=spot_order[\"id\"])\n",
    "cancel"
   ]
  },
  {
   "cell_type": "code",
   "execution_count": 7,
   "id": "4f30b3f4-fc26-44a9-9954-14ec12154b15",
   "metadata": {},
   "outputs": [
    {
     "name": "stdout",
     "output_type": "stream",
     "text": [
      "Placing Perp Order with matchPrice: 'queue_20'...\n",
      "✅ Perp Order Placed: {'info': {'orderId': 5490373887, 'symbol': 'BTCUSDT', 'status': 'FILLED', 'clientOrderId': 'x-cvBPrNm98e370131ff62029a2b1634', 'price': '0.00', 'avgPrice': '118381.10000', 'origQty': '0.001', 'executedQty': '0.001', 'cumQty': '0.001', 'cumQuote': '118.38110', 'timeInForce': 'GTC', 'type': 'MARKET', 'reduceOnly': False, 'closePosition': False, 'side': 'BUY', 'positionSide': 'BOTH', 'stopPrice': '0.00', 'workingType': 'CONTRACT_PRICE', 'priceProtect': False, 'origType': 'MARKET', 'priceMatch': 'NONE', 'selfTradePreventionMode': 'EXPIRE_MAKER', 'goodTillDate': 0, 'updateTime': 1753711241527}, 'id': '5490373887', 'clientOrderId': 'x-cvBPrNm98e370131ff62029a2b1634', 'timestamp': 1753711241527, 'datetime': '2025-07-28T14:00:41.527Z', 'lastTradeTimestamp': 1753711241527, 'lastUpdateTimestamp': 1753711241527, 'symbol': 'BTC/USDT:USDT', 'type': 'market', 'timeInForce': 'GTC', 'postOnly': False, 'reduceOnly': False, 'side': 'buy', 'price': 118381.1, 'triggerPrice': None, 'amount': 0.001, 'cost': 118.3811, 'average': 118381.1, 'filled': 0.001, 'remaining': 0.0, 'status': 'closed', 'fee': None, 'trades': [], 'fees': [], 'stopPrice': None, 'takeProfitPrice': None, 'stopLossPrice': None}\n"
     ]
    }
   ],
   "source": [
    "print(\"Placing Perp Order with matchPrice: 'queue_20'...\")\n",
    "perp_order = binance.create_order(\n",
    "    symbol='BTC/USDT:USDT',\n",
    "    type='market',\n",
    "    side='buy',\n",
    "    amount=0.001,\n",
    "    params={\n",
    "        'matchPrice': 'QUEUE_20'\n",
    "    }\n",
    ")\n",
    "print(\"✅ Perp Order Placed:\", perp_order)"
   ]
  },
  {
   "cell_type": "code",
   "execution_count": null,
   "id": "06409bff-3dfc-4e75-aa3a-bf020b04f15f",
   "metadata": {},
   "outputs": [],
   "source": [
    "option_order = binance_delivery.create_order(\n",
    "    symbol=\"BTC/USDT:USDT-25015-120000-C\",\n",
    "    type='limit',\n",
    "    side='buy',\n",
    "    amount=1,\n",
    "    price=10,\n",
    "    params={\n",
    "        'postOnly': True\n",
    "    }\n",
    ")"
   ]
  }
 ],
 "metadata": {
  "kernelspec": {
   "display_name": "Python 3 (ipykernel)",
   "language": "python",
   "name": "python3"
  },
  "language_info": {
   "codemirror_mode": {
    "name": "ipython",
    "version": 3
   },
   "file_extension": ".py",
   "mimetype": "text/x-python",
   "name": "python",
   "nbconvert_exporter": "python",
   "pygments_lexer": "ipython3",
   "version": "3.12.9"
  }
 },
 "nbformat": 4,
 "nbformat_minor": 5
}
