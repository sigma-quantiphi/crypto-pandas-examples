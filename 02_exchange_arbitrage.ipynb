{
 "cells": [
  {
   "cell_type": "code",
   "execution_count": 1,
   "id": "92361d15-8194-4a15-8202-908bb4458492",
   "metadata": {},
   "outputs": [],
   "source": [
    "from crypto_pandas import CCXTPandasExchange\n",
    "import ccxt\n",
    "import pandas as pd"
   ]
  },
  {
   "cell_type": "code",
   "execution_count": 2,
   "id": "657a5476-ab53-46c6-ac3c-db97613765ad",
   "metadata": {},
   "outputs": [],
   "source": [
    "# Setup exchanges\n",
    "binance = CCXTPandasExchange(exchange=ccxt.binance())\n",
    "bybit = CCXTPandasExchange(exchange=ccxt.bybit())\n",
    "kucoin = CCXTPandasExchange(ccxt.kucoinfutures())"
   ]
  },
  {
   "cell_type": "code",
   "execution_count": 3,
   "id": "0c8afb41-4e5b-4e09-89b7-99a898b64de2",
   "metadata": {},
   "outputs": [
    {
     "name": "stdout",
     "output_type": "stream",
     "text": [
      "              symbol  bidVolume   askVolume       exchange\n",
      "0            ETH/BTC    18.2136     37.1072        binance\n",
      "1            LTC/BTC     6.9370    279.8960        binance\n",
      "2            BNB/BTC     3.5580      2.3210        binance\n",
      "3            NEO/BTC    25.3100    813.7900        binance\n",
      "4           QTUM/ETH  4529.4000     42.4000        binance\n",
      "..               ...        ...         ...            ...\n",
      "453     AR/USDT:USDT   133.0000   1593.0000  kucoinfutures\n",
      "454     B3/USDT:USDT  2016.0000   1086.0000  kucoinfutures\n",
      "455   PNUT/USDT:USDT  5235.0000  11395.0000  kucoinfutures\n",
      "456  SYRUP/USDT:USDT    85.0000    477.0000  kucoinfutures\n",
      "457   HIGH/USDT:USDT    77.0000     77.0000  kucoinfutures\n",
      "\n",
      "[4254 rows x 4 columns]\n"
     ]
    }
   ],
   "source": [
    "# Fetch bids and asks\n",
    "binance_ba = binance.fetch_bids_asks()\n",
    "bybit_ba = bybit.fetch_bids_asks()\n",
    "kucoin_ba = kucoin.fetch_bids_asks()\n",
    "\n",
    "# Combine and display\n",
    "data = pd.concat([\n",
    "    binance_ba,\n",
    "    bybit_ba,\n",
    "    kucoin_ba,\n",
    "])\n",
    "\n",
    "print(data.dropna(axis=1))"
   ]
  },
  {
   "cell_type": "code",
   "execution_count": 4,
   "id": "49084ea9-3fc9-40a8-bd30-ced28a8ac81b",
   "metadata": {},
   "outputs": [
    {
     "name": "stdout",
     "output_type": "stream",
     "text": [
      "| exchangeShort   | symbol           |      bid | exchangeLong   |      ask |   spread |   spreadRelative |\n",
      "|:----------------|:-----------------|---------:|:---------------|---------:|---------:|-----------------:|\n",
      "| bybit           | ALU/USDT:USDT    | 0.006387 | kucoinfutures  | 0.00636  |  2.7e-05 |       0.00423629 |\n",
      "| bybit           | TSTBSC/USDT:USDT | 0.04625  | kucoinfutures  | 0.04608  |  0.00017 |       0.00368244 |\n",
      "| bybit           | XEM/USDT:USDT    | 0.003257 | kucoinfutures  | 0.003246 |  1.1e-05 |       0.00338305 |\n",
      "| bybit           | GORK/USDT:USDT   | 0.0079   | kucoinfutures  | 0.007874 |  2.6e-05 |       0.00329656 |\n",
      "| bybit           | COTI/USDT:USDT   | 0.06429  | kucoinfutures  | 0.06414  |  0.00015 |       0.0023359  |\n",
      "| bybit           | AI/USDT:USDT     | 0.1437   | kucoinfutures  | 0.1434   |  0.0003  |       0.00208986 |\n",
      "| kucoinfutures   | SONIC/USDT:USDT  | 0.2472   | bybit          | 0.2467   |  0.0005  |       0.0020247  |\n",
      "| bybit           | ROAM/USDT:USDT   | 0.0995   | kucoinfutures  | 0.0993   |  0.0002  |       0.00201207 |\n",
      "| bybit           | BDXN/USDT:USDT   | 0.03456  | kucoinfutures  | 0.0345   |  6e-05   |       0.00173762 |\n",
      "| bybit           | DOG/USDT:USDT    | 0.003726 | kucoinfutures  | 0.00372  |  6e-06   |       0.0016116  |\n"
     ]
    }
   ],
   "source": [
    "# Find all combinations and calculate spread\n",
    "arbitrage = data[[\"exchange\", \"symbol\", \"bid\"]].merge(data[[\"exchange\", \"symbol\", \"ask\"]], on=\"symbol\", suffixes=(\"Short\", \"Long\"))\n",
    "arbitrage[\"spread\"] = arbitrage[\"bid\"] - arbitrage[\"ask\"]\n",
    "arbitrage[\"spreadRelative\"] = arbitrage[\"spread\"]/arbitrage[[\"bid\", \"ask\"]].mean(axis=1)\n",
    "\n",
    "# Filter for different exchanges for buy/sell\n",
    "arbitrage = arbitrage.query(\"exchangeShort != exchangeLong\").sort_values(\"spreadRelative\", ascending=False, ignore_index=True)\n",
    "print(arbitrage.head(10).to_markdown(index=False))"
   ]
  },
  {
   "cell_type": "code",
   "execution_count": null,
   "id": "5736e395-f74b-4283-b5fb-aa0bcc3515e9",
   "metadata": {},
   "outputs": [],
   "source": []
  }
 ],
 "metadata": {
  "kernelspec": {
   "display_name": "Python 3 (ipykernel)",
   "language": "python",
   "name": "python3"
  },
  "language_info": {
   "codemirror_mode": {
    "name": "ipython",
    "version": 3
   },
   "file_extension": ".py",
   "mimetype": "text/x-python",
   "name": "python",
   "nbconvert_exporter": "python",
   "pygments_lexer": "ipython3",
   "version": "3.12.9"
  }
 },
 "nbformat": 4,
 "nbformat_minor": 5
}
